{
 "cells": [
  {
   "cell_type": "markdown",
   "metadata": {},
   "source": [
    "Create a treasure hunt game where a user has to figure out the location of the treasure on a grid by using just the commands of E, W, N, and S, indicating East, West, North, and South, respectively. \n",
    "\n",
    "REQUIREMENTS:\n",
    "1. Define the size of the grid. It could be any number, but start from 5\n",
    "2. Assign the player a random position on the map. Do the same for the location of the treasure. (HINT: use randint() to generate a random set of coordinates)\n",
    "    2.1. Since it's 2-dimensional grid, the location of both the player and the treasure will be coordinates, like (x,y)\n",
    "3. Decide the maximum moves the player can make and keep track of the number of moves.\n",
    "4. Calculate the initial distance between the player and the treasure location\n",
    "5. Allow player to make as many moves as maximum moves allowed\n",
    "    5.1. Depending on which direction the player moves (N, S, E, or W), recalculate player's position and their distance from the treasure location\n",
    "    5.2. If the move brings player closer to the treasure, let the user know that they are getting closer\n",
    "    5.3. If the move takes player away from the treasure, let the user know that they are moving farther\n",
    "    5.4. If the player makes an illegal move, then let the user know that that move is not allowed. \n",
    "    5.5. If the new player position is the same as the treasure position, let the user know that they have found the treasure\n",
    "    5.6. If the moves made by the player are the same as maximum moves allowed, let the user know that no more moves are possible and that they have lost the game. Also show them where the treasure was located.\n",
    "    5.7. If there are still moves left, then the game should continue and keep asking the user for their moves. \n"
   ]
  },
  {
   "cell_type": "code",
   "execution_count": 2,
   "metadata": {},
   "outputs": [
    {
     "name": "stdout",
     "output_type": "stream",
     "text": [
      "[3, 4]\n",
      "[1, 1]\n",
      "Player-Treasure Distance: 5\n",
      ". . . . .\n",
      ". . . . .\n",
      ". . . . .\n",
      ". . . . .\n",
      ". . . P .\n",
      "Player-Treasure Distance: 4\n",
      ". . . . .\n",
      ". . . . .\n",
      ". . . . .\n",
      ". . . P .\n",
      ". . . . .\n",
      "Player-Treasure Distance: 3\n",
      ". . . . .\n",
      ". . . . .\n",
      ". . . P .\n",
      ". . . . .\n",
      ". . . . .\n",
      "Invalid move! Please try again.\n",
      "Player-Treasure Distance: 3\n",
      ". . . . .\n",
      ". . . . .\n",
      ". . . P .\n",
      ". . . . .\n",
      ". . . . .\n",
      "Player-Treasure Distance: 2\n",
      ". . . . .\n",
      ". . . P .\n",
      ". . . . .\n",
      ". . . . .\n",
      ". . . . .\n"
     ]
    }
   ],
   "source": [
    "import random\n",
    "\n",
    "\n",
    "grid_size = int(input(\"Choice the size: \"))\n",
    "player_position = [random.randint(0, grid_size - 1), random.randint(0, grid_size - 1)]\n",
    "print(player_position)\n",
    "treasure_position = [random.randint(0, grid_size - 1), random.randint(0, grid_size - 1)]\n",
    "print(treasure_position)\n",
    "while player_position != treasure_position:\n",
    "    player_treasure_distance = abs(treasure_position[0] - player_position[0]) + abs(treasure_position[1] - player_position[1])\n",
    "    print(\"Player-Treasure Distance:\", player_treasure_distance)\n",
    "\n",
    "\n",
    "    board = [['.' for _ in range(grid_size)] for _ in range(grid_size)]\n",
    "    board[player_position[1]][player_position[0]] = 'P'\n",
    "    for row in board:\n",
    "        print(' '.join(row))\n",
    "\n",
    "    move = input(\"Which direction do you want to move? (w = up, s = down, a = left, d = right): \")\n",
    "    \n",
    "\n",
    "    if move == 'w' and player_position[1] > 0:\n",
    "        player_position[1] -= 1\n",
    "    elif move == 's' and player_position[1] < grid_size - 1:\n",
    "        player_position[1] += 1\n",
    "    elif move == 'a' and player_position[0] > 0:\n",
    "        player_position[0] -= 1\n",
    "    elif move == 'd' and player_position[0] < grid_size - 1:\n",
    "        player_position[0] += 1\n",
    "    else:\n",
    "        print(\"Invalid move! Please try again.\")\n",
    "        continue\n",
    "\n",
    "\n",
    "\n",
    "print(\"Congratulations! You found the treasure at:\", treasure_position)\n",
    "\n",
    "\n",
    "\n"
   ]
  }
 ],
 "metadata": {
  "kernelspec": {
   "display_name": "Python 3",
   "language": "python",
   "name": "python3"
  },
  "language_info": {
   "codemirror_mode": {
    "name": "ipython",
    "version": 3
   },
   "file_extension": ".py",
   "mimetype": "text/x-python",
   "name": "python",
   "nbconvert_exporter": "python",
   "pygments_lexer": "ipython3",
   "version": "3.11.9"
  }
 },
 "nbformat": 4,
 "nbformat_minor": 2
}
